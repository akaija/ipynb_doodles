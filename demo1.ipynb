{
 "metadata": {
  "name": "",
  "signature": "sha256:ee3c9a122b3ea7901970a37c4bc1f2daf82505e9e7ad7ec4014579beebf2717a"
 },
 "nbformat": 3,
 "nbformat_minor": 0,
 "worksheets": [
  {
   "cells": [
    {
     "cell_type": "heading",
     "level": 1,
     "metadata": {},
     "source": [
      "This is an iPython notebook"
     ]
    },
    {
     "cell_type": "markdown",
     "metadata": {},
     "source": [
      "\n",
      "In this iPython notebook I will play around with the notebook's features as well as Scipy, NumPy, matplotlib and other librarys.\n"
     ]
    },
    {
     "cell_type": "heading",
     "level": 2,
     "metadata": {},
     "source": [
      "Solving quadratic equations"
     ]
    },
    {
     "cell_type": "markdown",
     "metadata": {},
     "source": [
      "\n",
      "First, let's create a script to solve quadratic equations..."
     ]
    },
    {
     "cell_type": "code",
     "collapsed": false,
     "input": [
      "import numpy as np\n",
      "\n",
      "np.set_printoptions(precision = 4)\n",
      "def quadroot(a, b, c):\n",
      "#where a, b, and c refer to the second, first, and zero-order coefficients\n",
      "#of a quadratic equation, respectively.\n",
      "    if a == 0:\n",
      "        if np.not_equal(b,0):\n",
      "            #single root\n",
      "            r1 = -c / b\n",
      "            roots = np.array([r1])\n",
      "            print ('single root')\n",
      "        else:\n",
      "            #trivial solution\n",
      "            roots = ['n/a']\n",
      "            print ('trivial solution')\n",
      "    else:\n",
      "        d = b**2 - 4*a * c\n",
      "        if d >= 0:\n",
      "            #real roots\n",
      "            r1 = (-b + np.sqrt(d)) / (2*a)\n",
      "            r2 = (-b - np.sqrt(d)) / (2*a)\n",
      "            roots = np.array([r1, r2])\n",
      "            if r1 == r2:\n",
      "                print ('double root')\n",
      "        else:\n",
      "            #complex roots\n",
      "            real = -0.5*b/a\n",
      "            imag = np.sqrt(np.absolute(d)) / (2*a)\n",
      "            r1 = np.complex(real, imag)\n",
      "            r2 = np.complex(real, -imag)\n",
      "            roots = np.array([r1, r2])\n",
      "    print roots"
     ],
     "language": "python",
     "metadata": {},
     "outputs": []
    },
    {
     "cell_type": "markdown",
     "metadata": {},
     "source": [
      "The function should return a single root if the leading coefficient is zero.  We find this to be true when testing the following expression:\n",
      "$$ x + 1 $$\n",
      "In which case the root would be -1."
     ]
    },
    {
     "cell_type": "code",
     "collapsed": false,
     "input": [
      "quadroot(0, 1, 1)"
     ],
     "language": "python",
     "metadata": {},
     "outputs": []
    },
    {
     "cell_type": "markdown",
     "metadata": {},
     "source": [
      "Therefore, the function returned the correct result!\n",
      "\n",
      "If an integer is evaluated, that is if the first two coefficients are zero, a primitive error message should be displayed."
     ]
    },
    {
     "cell_type": "code",
     "collapsed": false,
     "input": [
      "quadroot(0, 0, 1)"
     ],
     "language": "python",
     "metadata": {},
     "outputs": []
    },
    {
     "cell_type": "markdown",
     "metadata": {},
     "source": [
      "The equation:\n",
      "$$ x^2 + 2x + 1$$\n",
      "will have two roots at -1."
     ]
    },
    {
     "cell_type": "code",
     "collapsed": false,
     "input": [
      "quadroot(1, 2, 1)"
     ],
     "language": "python",
     "metadata": {},
     "outputs": []
    },
    {
     "cell_type": "markdown",
     "metadata": {},
     "source": [
      "While:\n",
      "$$x^2 + 2x + 4$$\n",
      "will have a complex solution."
     ]
    },
    {
     "cell_type": "code",
     "collapsed": false,
     "input": [
      "quadroot(1, 2, 4)"
     ],
     "language": "python",
     "metadata": {},
     "outputs": []
    },
    {
     "cell_type": "heading",
     "level": 2,
     "metadata": {},
     "source": [
      "Solving systems of non-linear equations"
     ]
    },
    {
     "cell_type": "markdown",
     "metadata": {},
     "source": [
      "\n",
      "Now moving on to something more useful...\n",
      "\n",
      "Let's create a script that solves a system of non-linear equations using the Newton-Raphson Method.\n",
      "\n",
      "For this example we'll solve for the two non-linear equations, u and v:\n",
      "\n",
      "$$u(x_1, x_2) = \\frac{5 + x_1 + x_2}{(50 - 2x_1 - x_2)^2(20 - x1)} - 4 * 10^{-4}$$\n",
      "\n",
      "$$v(x_1, x_12) = \\frac{5 + x_1 + x_2}{(50 - 2x_1 - x_2)(10 - x_2)} - 3.7 * 10^{-2}$$\n",
      "\n",
      "First we'll define these two functions:"
     ]
    },
    {
     "cell_type": "code",
     "collapsed": false,
     "input": [
      "def u(x1,x2):\n",
      "    return (5 + x1 + x2) / (50 - 2 * x1 - x2)**2 / (20 - x1) - 0.0004\n",
      "        \n",
      "def v(x1,x2):\n",
      "    return (5 + x1 + x2) / (50 - 2 * x1 - x2) / (10 - x2) - 0.037"
     ],
     "language": "python",
     "metadata": {},
     "outputs": []
    },
    {
     "cell_type": "markdown",
     "metadata": {},
     "source": [
      "Next we'll provide a script that returns the Jacobian by taking the partial derivatives of the equations above.  This, however, is rather time consuming and may alternatively be represented by finitie differences in a manner similar to the secant method:"
     ]
    },
    {
     "cell_type": "code",
     "collapsed": false,
     "input": [
      "def jacob(a):\n",
      "    del_ = 0.000001\n",
      "    \n",
      "    f1 = u(a[0], a[1])\n",
      "    f2 = v(a[0], a[1])\n",
      "    f = np.array([f1,\n",
      "                  f2])\n",
      "        \n",
      "    df1dx1 = (u((a[0]+del_*a[0]), a[1])-u(a[0], a[1]))/(del_*a[0])\n",
      "    df1dx2 = (u(a[0], (a[1]+del_*a[1]))-u(a[0], a[1]))/(del_*a[1])\n",
      "    df2dx1 = (v((a[0]+del_*a[0]), a[1])-v(a[0], a[1]))/(del_*a[0])\n",
      "    df2dx2 = (v(a[0], (a[1]+del_*a[1]))-v(a[0], a[1]))/(del_*a[1])\n",
      "    \n",
      "    J = np.squeeze(np.array([[df1dx1, df1dx2],\n",
      "                  [df2dx1, df2dx2]]))\n",
      "    \n",
      "    return (J, f)"
     ],
     "language": "python",
     "metadata": {},
     "outputs": []
    },
    {
     "cell_type": "markdown",
     "metadata": {},
     "source": [
      "The function above also generates vector, f, containing the values of u and v given x1 and x2.\n",
      "\n",
      "The single -equation Newton-Raphson method is:\n",
      "\n",
      "$$x_{i+1} = x_{i} - \\frac{f(x_i)}{f'(x_i0}$$\n",
      "\n",
      "Which can be implemented as a for loop using the equation below, once J and f are generated:\n",
      "\n",
      "$$\\{x_{i+1}\\} = \\{x_i\\} - [J]^{-1}\\{f\\}$$"
     ]
    },
    {
     "cell_type": "code",
     "collapsed": false,
     "input": [
      "def newtmult(func, x0, es=0.001, maxit=1000):\n",
      "    #function = the name of the function that returns the Jacobian\n",
      "    #x0 = initial guess\n",
      "    #es = desired percent relative error, default: 0.001\n",
      "    #maxit = max allowable number of iterations, default: 1000\n",
      "    \n",
      "    iter = 0\n",
      "    x=x0\n",
      "    for i in range (0, maxit+1):\n",
      "        [J,f]=func(x)\n",
      "        dx = np.linalg.solve((J),f)\n",
      "        x = x - dx\n",
      "        i = i + 1\n",
      "        ea = 100*max(np.absolute(dx/x))\n",
      "        if i >= maxit or ea<=es: \n",
      "            break\n",
      "    #return (x, f, ea, i)\n",
      "    print  'roots:             x1 =   ', x[0], '     x2 =   ', x[1],\n",
      "    print'\\napprox relative %error:   ', ea,\n",
      "    print'\\nnumber of interations:    ', i"
     ],
     "language": "python",
     "metadata": {},
     "outputs": []
    },
    {
     "cell_type": "code",
     "collapsed": false,
     "input": [
      "a = np.array([[1.5],[3.5]])\n",
      "\n",
      "newtmult(jacob, a, 0.000001, 1000)"
     ],
     "language": "python",
     "metadata": {},
     "outputs": []
    },
    {
     "cell_type": "markdown",
     "metadata": {},
     "source": [
      "Using the initial guess: x1 = 1.5 and x2 = 3.5, find that after 5 iterations that x1 = 3.3366 and x2 = 2.6772 with an approximate relative error < 0.0000000022 %"
     ]
    },
    {
     "cell_type": "heading",
     "level": 2,
     "metadata": {},
     "source": [
      "Linear regression"
     ]
    },
    {
     "cell_type": "markdown",
     "metadata": {},
     "source": [
      "\n",
      "Let's use matplotlib to plot a series of data."
     ]
    },
    {
     "cell_type": "code",
     "collapsed": false,
     "input": [
      "x = np.array([10, 20, 30, 40, 50, 60, 70, 80])\n",
      "y = np.array([26, 68, 382, 560, 609, 1217, 834, 1456])\n",
      "\n",
      "import matplotlib.pyplot as plt\n",
      "%matplotlib inline\n",
      "plt.plot(x, y, 'bo', markersize=5)"
     ],
     "language": "python",
     "metadata": {},
     "outputs": []
    },
    {
     "cell_type": "markdown",
     "metadata": {},
     "source": [
      "The following script will attempt to generate a line of best fit, given x and y values."
     ]
    },
    {
     "cell_type": "code",
     "collapsed": false,
     "input": [
      "def linregr(x,y):\n",
      "    n = len(x)\n",
      "    \n",
      "    if n != len(y):\n",
      "        print ('dim mismatch')\n",
      "    \n",
      "    x1 = (np.mat(x)).transpose()\n",
      "    y1 = (np.mat(y)).transpose()\n",
      "    sx = x1.sum()\n",
      "    sy = y1.sum()\n",
      "    sx2 = (np.multiply(x1, x1)).sum()\n",
      "    sxy = (np.multiply(x1, y1)).sum()\n",
      "    sy2 = (np.multiply(y1, y1)).sum()\n",
      "    a1 = (n*sxy-sx*sy)/(n*sx2-sx**2)\n",
      "    a = np.array([a1, (sy/n - a1*sx/n)])\n",
      "    r2 = ((n*sxy-sx*sy)/np.math.sqrt(n*sx2-sx**2)/np.math.sqrt(n*sy2-sy**2))**2\n",
      "    xp = np.linspace(x1.min(), x1.max(), 2)\n",
      "    yp = a[0]*xp + a[1]\n",
      "\n",
      "    print 'r2 = ', r2\n",
      "    %matplotlib inline\n",
      "    plt.plot(x, y, 'bo', xp, yp, 'r--')\n",
      "    "
     ],
     "language": "python",
     "metadata": {},
     "outputs": []
    },
    {
     "cell_type": "markdown",
     "metadata": {},
     "source": [
      "Running the script with the previous data series:"
     ]
    },
    {
     "cell_type": "code",
     "collapsed": false,
     "input": [
      "linregr(x, y)"
     ],
     "language": "python",
     "metadata": {},
     "outputs": []
    },
    {
     "cell_type": "heading",
     "level": 1,
     "metadata": {},
     "source": [
      "Multiple linear regression"
     ]
    },
    {
     "cell_type": "markdown",
     "metadata": {},
     "source": [
      "\n",
      "Let's try multiple linear regression!  This would generate a plane as oppose to a line of best fit.  We'll use the following data:"
     ]
    },
    {
     "cell_type": "code",
     "collapsed": false,
     "input": [
      "data = np.array([[0, 0, 5], \n",
      "                 [2, 1, 10], \n",
      "                 [2.5, 2, 9], \n",
      "                 [1, 3, 0], \n",
      "                 [4, 6, 3], \n",
      "                 [7, 2, 27]])\n",
      "\n",
      "x = data[:, 0]\n",
      "y = data[:, 1]\n",
      "z = data[:, 2]\n",
      "\n",
      "%matplotlib\n",
      "from mpl_toolkits.mplot3d import Axes3D\n",
      "\n",
      "fig = plt.figure()\n",
      "ax = fig.add_subplot(111, projection='3d')\n",
      "\n",
      "ax.plot(x, y, z, 'bo')\n",
      "\n",
      "ax.azim = 45\n",
      "ax.elev = 45"
     ],
     "language": "python",
     "metadata": {},
     "outputs": []
    },
    {
     "cell_type": "markdown",
     "metadata": {},
     "source": [
      "The following script will return (xp, yp, zp), coordinates for the plane of best fit."
     ]
    },
    {
     "cell_type": "code",
     "collapsed": false,
     "input": [
      "def multlinregr(x, y, z):\n",
      "    n = len(x)\n",
      "    sx = x.sum()\n",
      "    sy = y.sum()\n",
      "    sz = z.sum()\n",
      "    sx2 = (x**2).sum()\n",
      "    sy2 = (y**2).sum()\n",
      "    sxy = (x*y).sum()\n",
      "    sxz = (x*z).sum()\n",
      "    syz = (y*z).sum()\n",
      "\n",
      "    A = np.array([[n, sx, sy],\n",
      "                  [sx, sx2, sxy],\n",
      "                  [sy, sxy, sy2]])\n",
      "\n",
      "    B = np.array([[sz],\n",
      "                  [sxz],\n",
      "                  [syz]])\n",
      "\n",
      "    coef = np.linalg.solve(A,B)\n",
      "                       \n",
      "    xp = np.arange(x.min(),(1+x.max()),0.5)\n",
      "    yp = np.arange(y.min(),(1+y.max()),(((1+y.max())-y.min())/len(xp)))\n",
      "    xp, yp = np.meshgrid(xp, yp)\n",
      "    zp = coef[0] + coef[1]*xp + coef[2]*yp\n",
      "\n",
      "    return (xp, yp, zp)"
     ],
     "language": "python",
     "metadata": {},
     "outputs": []
    },
    {
     "cell_type": "markdown",
     "metadata": {},
     "source": [
      "Now to input the original data into the script and plot the resulting surface..."
     ]
    },
    {
     "cell_type": "code",
     "collapsed": false,
     "input": [
      "(xp, yp, zp) = multlinregr(x, y, z)\n",
      "\n",
      "%matplotlib inline\n",
      "from mpl_toolkits.mplot3d import Axes3D\n",
      "from matplotlib import cm\n",
      "\n",
      "fig = plt.figure()\n",
      "ax = fig.add_subplot(111, projection='3d')\n",
      "\n",
      "\n",
      "ax.plot_surface(xp, yp, zp, rstride=1, cstride=1, cmap=cm.Greys,\n",
      "        linewidth=0, antialiased=False)\n",
      "ax.plot(x, y, z, 'bo')\n",
      "\n",
      "ax.azim = 45\n",
      "ax.elev = 45"
     ],
     "language": "python",
     "metadata": {},
     "outputs": []
    },
    {
     "cell_type": "markdown",
     "metadata": {},
     "source": [
      "And from another angle...\n",
      "\n",
      "(if the click+drag feature isn't working)"
     ]
    },
    {
     "cell_type": "code",
     "collapsed": false,
     "input": [
      "#%matplotlib\n",
      "from mpl_toolkits.mplot3d import Axes3D\n",
      "from matplotlib import cm\n",
      "\n",
      "fig = plt.figure()\n",
      "ax = fig.add_subplot(111, projection='3d')\n",
      "\n",
      "\n",
      "ax.plot_surface(xp, yp, zp, rstride=1, cstride=1, cmap=cm.Greys,\n",
      "        linewidth=0, antialiased=False)\n",
      "ax.plot(x, y, z, 'bo')\n",
      "\n",
      "ax.azim = 40\n",
      "ax.elev = 10"
     ],
     "language": "python",
     "metadata": {},
     "outputs": []
    },
    {
     "cell_type": "code",
     "collapsed": false,
     "input": [],
     "language": "python",
     "metadata": {},
     "outputs": []
    }
   ],
   "metadata": {}
  }
 ]
}
